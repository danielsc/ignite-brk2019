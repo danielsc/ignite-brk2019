{
 "cells": [
  {
   "cell_type": "markdown",
   "metadata": {},
   "source": [
    "## Azure Machine Learning and R\n",
    "\n",
    "### Setup\n",
    "Before running through this notebook, make sure you have executed setup.R by running this in a terminal on the Notebook VM:\n",
    "\n",
    "```shell\n",
    "sudo Rscript 0-setup.R\n",
    "```\n"
   ]
  },
  {
   "cell_type": "code",
   "execution_count": null,
   "metadata": {},
   "outputs": [],
   "source": [
    "library(azuremlsdk)\n",
    "library(data.table)\n",
    "library(ggplot2)"
   ]
  },
  {
   "cell_type": "markdown",
   "metadata": {},
   "source": [
    "### Load the workspace"
   ]
  },
  {
   "cell_type": "code",
   "execution_count": null,
   "metadata": {},
   "outputs": [],
   "source": [
    "ws = load_workspace_from_config()"
   ]
  },
  {
   "cell_type": "markdown",
   "metadata": {},
   "source": [
    "### Retrieve the Attrition Dataset from the workspace"
   ]
  },
  {
   "cell_type": "code",
   "execution_count": null,
   "metadata": {},
   "outputs": [],
   "source": [
    "attrition = ws$datasets$`IBM-Employee-Attrition`"
   ]
  },
  {
   "cell_type": "markdown",
   "metadata": {},
   "source": [
    "### Get a FileDataset for the TabularDataset, mount it and load the data into a data.table, then unmount "
   ]
  },
  {
   "cell_type": "code",
   "execution_count": null,
   "metadata": {},
   "outputs": [],
   "source": [
    "mc = attrition$to_csv_files()$mount()\n",
    "mc$start()\n",
    "csv_file = paste(mc$mount_point, 'part-00000', sep = '/')\n",
    "df = fread(file=csv_file)\n",
    "mc$stop()"
   ]
  },
  {
   "cell_type": "markdown",
   "metadata": {},
   "source": [
    "### Do some nice plots with ggplot"
   ]
  },
  {
   "cell_type": "code",
   "execution_count": null,
   "metadata": {},
   "outputs": [],
   "source": [
    "gg <- ggplot(df, aes(x=Age, y=MonthlyIncome))\n",
    "gg = gg + geom_point(size=0.5, color='steelblue') \n",
    "gg = gg + geom_smooth(aes())\n",
    "gg = gg + facet_grid(Department ~ Attrition) \n",
    "gg"
   ]
  },
  {
   "cell_type": "markdown",
   "metadata": {},
   "source": [
    "## Now let's continue in R Studio \n",
    "\n",
    "There is an instance of R Studio Server running on your Notebook VM and the URL will be integrated into the AzureML studio by early November. For now, however, you need to construct the URL by hand. \n",
    "\n",
    "Just take the URL of your Notebook VM and add `-8787` behind the hostname. And strip the file name from the UEL, so you end up with something like this:\n",
    "\n",
    "```\n",
    "https://danielsc-8787.eastus2.notebooks.azureml.net\n",
    "```\n",
    "\n",
    "Once in R Studio, in the bottom right tab \"Files\" navigate to `cloudfiles/code/` and then where you cloned this repo to, for instance `cloudfiles/code/azureml-workshop-2019`"
   ]
  },
  {
   "cell_type": "code",
   "execution_count": null,
   "metadata": {
    "scrolled": true
   },
   "outputs": [],
   "source": []
  }
 ],
 "metadata": {
  "kernelspec": {
   "display_name": "R",
   "language": "R",
   "name": "ir"
  },
  "language_info": {
   "codemirror_mode": "r",
   "file_extension": ".r",
   "mimetype": "text/x-r-source",
   "name": "R",
   "pygments_lexer": "r",
   "version": "3.6.1"
  }
 },
 "nbformat": 4,
 "nbformat_minor": 2
}
